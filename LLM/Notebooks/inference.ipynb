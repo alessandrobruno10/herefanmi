{
  "nbformat": 4,
  "nbformat_minor": 0,
  "metadata": {
    "colab": {
      "provenance": []
    },
    "kernelspec": {
      "name": "python3",
      "display_name": "Python 3"
    },
    "language_info": {
      "name": "python"
    }
  },
  "cells": [
    {
      "cell_type": "code",
      "execution_count": null,
      "metadata": {
        "id": "EsMb8HghnLWV"
      },
      "outputs": [],
      "source": [
        "\n",
        "from transformers import AutoTokenizer, AutoModelForCausalLM\n",
        "\n",
        "# Load the custom model and tokenizer\n",
        "model = AutoModelForCausalLM.from_pretrained(\"a-hamdi/NGILlama3-merged\")\n",
        "tokenizer = AutoTokenizer.from_pretrained(\"a-hamdi/NGILlama3-merged\")\n",
        "\n",
        "# Define a function to generate text\n",
        "def generate_text(prompt, max_length=50):\n",
        "    inputs = tokenizer.encode(prompt, return_tensors=\"pt\")\n",
        "    outputs = model.generate(inputs, max_length=max_length, num_return_sequences=1)\n",
        "    generated_text = tokenizer.decode(outputs[0], skip_special_tokens=True)\n",
        "    return generated_text\n",
        "\n",
        "# Example usage\n",
        "prompt = \"Once upon a time\"\n",
        "max_length = 100\n",
        "\n",
        "generated_text = generate_text(prompt, max_length)\n",
        "print(\"Generated Text:\\n\", generated_text)\n"
      ]
    }
  ]
}